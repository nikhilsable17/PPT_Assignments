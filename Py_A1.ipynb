{
 "cells": [
  {
   "cell_type": "code",
   "execution_count": null,
   "id": "a1011496-3982-4737-8d77-79ac51f135f6",
   "metadata": {},
   "outputs": [],
   "source": [
    "1. In the below elements which of them are values or an expression? eg:- values can be\n",
    "integer or string and expressions will be mathematical operators."
   ]
  },
  {
   "cell_type": "code",
   "execution_count": null,
   "id": "15f19055-743c-4c36-9ecc-36994df9a4d4",
   "metadata": {},
   "outputs": [],
   "source": [
    "*\n",
    "'hello'\n",
    "-87.8\n",
    "-\n",
    "/\n",
    "+\n",
    "6"
   ]
  },
  {
   "cell_type": "code",
   "execution_count": null,
   "id": "1be55086-893b-40ae-8a84-0871d66fb47f",
   "metadata": {},
   "outputs": [],
   "source": [
    "#Answer 1): - \n",
    "\n",
    "*          Expression\n",
    "'hello'    Values\n",
    "-87.8      Values\n",
    "-          Expression\n",
    "/          Expression\n",
    "+          Expression\n",
    "6          Value"
   ]
  },
  {
   "cell_type": "code",
   "execution_count": null,
   "id": "0a4ecbd1-17b3-4006-a6aa-aac2d7bbad8c",
   "metadata": {},
   "outputs": [],
   "source": [
    "2. What is the difference between string and variable?"
   ]
  },
  {
   "cell_type": "code",
   "execution_count": null,
   "id": "370728d4-e630-404e-903a-231ae5344919",
   "metadata": {},
   "outputs": [],
   "source": [
    "#Answer 2): -\n",
    "\n",
    "String: - \n",
    "\n",
    "    String is a collection of words or characters,\n",
    "    Strings can also nclude Letters, Numbers, Special characters etc.\n",
    "    Strings can be closed in Double Quotes or Single Quotes.\n",
    "    For Example: - \"Double Quotes\"\n",
    "                   'Single Quotes'\n",
    "\n",
    "\n",
    "Variables: -\n",
    "\n",
    "    Variables are the container to store a value in it.\n",
    "    The values inside a variable can change depending on the condition or the information passed.\n",
    "    \n",
    "    #Some KEY POINTS to Remember with Variables: -\n",
    "    1. Variables should always start with Alphabates\n",
    "    2. We CANNOT use \"!, ^, %, $, @, #, *, (), \" etc as they contain some meaning and operation in python\n",
    "    3. We should always start any variable name with small case letters\n",
    "    4. Variables are case sensetive\n",
    "    5. Variable name should be clear & Concise as it gets easier to read and understand\n",
    "    6. Variable names cannot start with numbers but we can use numbers in variable name\n",
    "        eg: - num_1 = 10    (ALLOWED)\n",
    "              num2  = 20    (ALLOWED)\n",
    "              3num  = 30    (NOT ALLOWED)\n",
    "                \n",
    "    7. In python there is also an 'HIDDEN VARIABLE' & 'DUMMY VARIABLE'\n",
    "        _num = 10     (Hidden Variable)  ->\n",
    "          __  = 20    (Dummy Variable)   -> Used to represent a catagorical data 'Yes / No' type data!"
   ]
  },
  {
   "cell_type": "code",
   "execution_count": null,
   "id": "7cea929f-0bae-4f5f-a966-0ef9e9704ced",
   "metadata": {},
   "outputs": [],
   "source": [
    "3. Describe three different data types."
   ]
  },
  {
   "cell_type": "code",
   "execution_count": null,
   "id": "15e7f8e9-a547-4ace-90fd-1ef697305954",
   "metadata": {},
   "outputs": [],
   "source": [
    "#Answer 3) : -\n",
    "\n",
    "Integer DT: - \n",
    "            a = 7\n",
    "            b = 1234\n",
    "            c = 0\n",
    "            (No Decimals, Should be a complete whole number)\n",
    "            \n",
    "Float DT: - \n",
    "            a = 7.0\n",
    "            b = 1.234\n",
    "            c = 0.12345\n",
    "            \n",
    "Complex numnber: - \n",
    "            a = 4 + 5j\n",
    "        where,\n",
    "            a = Variable\n",
    "            4 = Real number\n",
    "            5j = Imaginary number\n",
    "            \n",
    "String DT: - \n",
    "            str\n",
    "    \n",
    "Boolean DT: - \n",
    "            bool --> Results in True or Flase \n",
    "    \n",
    "Sequence DT: -\n",
    "            List, Tuples, Range."
   ]
  },
  {
   "cell_type": "code",
   "execution_count": null,
   "id": "26c315ac-b8ad-4177-b4fb-40a27faf3b82",
   "metadata": {},
   "outputs": [],
   "source": [
    "4. What is an expression made up of? What do all expressions do?"
   ]
  },
  {
   "cell_type": "code",
   "execution_count": null,
   "id": "40949796-272b-40f7-8bfe-fa70291fb924",
   "metadata": {},
   "outputs": [],
   "source": [
    "#Answer 4: - \n",
    "\n",
    "An expression is a combination of Oprands and Operators which returns a value as a result.\n",
    "We can also say that Expression is a line of code which assess some values or results.\n",
    "For Example: - \n",
    "\n",
    "     a     =    10         +         3\n",
    "(Variable) = (Oprand) (Operator) (Oprand)\n",
    "\n",
    "\n",
    "Arithmetic Operator: -\n",
    "\n",
    "+ Addition  --------------------------------------------> 10 + 11 = 21\n",
    "- Subtraction  -----------------------------------------> 11 - 10 = 1\n",
    "* Multiplication  --------------------------------------> 10 * 11 = 110\n",
    "/ Division  --------------------------------------------> 10 / 2 = 5\n",
    "** Exponentiation: - Returns Power of Value ------------> (2**3)**2 OR we can assume (2^3)^2 = 64\n",
    "// Floor Division: - Returns Quoificient ---------------> 10 // 2 = 5\n",
    "%  Modulud: -Returns Remainder  ------------------------> 4 % 3 = 1\n",
    "\n",
    "Relational Operator: -\n",
    "\n",
    "< Less Than: - (Used in conditioning) ------------------> if (a<b):\n",
    "> Greater Than: - (Used in conditioning) ---------------> if (a>b):\n",
    "<= Less than or equals to: - (Used in conditioning) ----> if (a>b):\n",
    ">= Greater than or equals to: - (Used in conditioning) -> if (a>b):\n",
    "== Equals to: - Used in satisfying the consdition ------> if (a == 10): 'in True or Flase'\n",
    "!= Not Equals to: - Used in satisfying the condition ---> if (a != 2): 'in True or Flase'\n",
    "\n",
    "Assignment Operator: -\n",
    "\n",
    "= Assign: - assigns the value ------------------------------------------------------------------> a=10\n",
    "a+=2 Add & Assign: - Adds the value from eighter side and assigns to its left ------------------> a = a+2 = 12\n",
    "a-=2 Subtract & Assign: - Subtracts the value from eighter side and assigns to its left --------> a = a-2 = 8\n",
    "a*=2 Multiply & Assign: - Multiply the value from eighter side and assigns to its left ---------> a = a*2 = 20\n",
    "a/=2 Divide & Assign: - Divides the value from eighter side and assigns to its left ------------> a = a/2 = 5\n",
    "\n",
    "Logical Operator: -\n",
    "\n",
    "and Used to check if both the conditions are true \n",
    "or  Used to check if eighter of the conditions are true\n",
    "not Used to invert the condition from True to Flase and Flase to True!"
   ]
  },
  {
   "cell_type": "code",
   "execution_count": null,
   "id": "21d7bbad-4862-40b9-9d93-ee7453458949",
   "metadata": {},
   "outputs": [],
   "source": [
    "5. This assignment statements, like spam = 10. What is the difference between an expression and a statement?"
   ]
  },
  {
   "cell_type": "code",
   "execution_count": null,
   "id": "357359ed-8d90-4ef7-a8e4-8b482b3b0410",
   "metadata": {},
   "outputs": [],
   "source": [
    "#Answer 5: -\n",
    "\n",
    "Expression carries one or more Oprands and operators resulting in a value when asked for it.\n",
    "Whereas the Statements makes an action or perform something\n",
    "We can simply say that Statements are like a sentence which are made up of expressions!\n",
    "\n",
    "\n",
    "There are 4 types of statements in python: -\n",
    "1. print statement\n",
    "2. Assignment statement\n",
    "3. Conditional statement\n",
    "4. Looping statement\n",
    "\n",
    "\n",
    "Generic example: -\n",
    "\n",
    "print(\"When you multiply 4 by 5 and divide it by 4 then the answer is \"+ str(4*5/4))\n",
    "\n",
    "\n",
    "Here: -\n",
    "    All the above line of code is a statement\n",
    "    in which \"str(4*5/4)\" is a expression!"
   ]
  },
  {
   "cell_type": "code",
   "execution_count": null,
   "id": "3e15d97a-5446-4850-9ff3-29a51d6c1ee1",
   "metadata": {},
   "outputs": [],
   "source": [
    "6. After running the following code, what does the variable bacon contain?\n",
    "bacon = 22\n",
    "bacon + 1"
   ]
  },
  {
   "cell_type": "code",
   "execution_count": null,
   "id": "3e158fe5-01d8-4b12-ab31-e6f71f177c48",
   "metadata": {},
   "outputs": [],
   "source": [
    "#Answer 6 : -\n",
    "\n",
    "22\n",
    "\n",
    "Beacuse: - \n",
    "    at first when we add bacon+1 we do not store that additional 1 in the same variable \n",
    "    \n",
    "    \"if we had stored bacon = bacon +1 then we would get 23 as a result\""
   ]
  },
  {
   "cell_type": "code",
   "execution_count": null,
   "id": "2ad84768-53ae-4b1e-923a-f56fbc289413",
   "metadata": {},
   "outputs": [],
   "source": [
    "7. What should the values of the following two terms be?\n",
    "'spam' + 'spamspam'\n",
    "'spam' * 3"
   ]
  },
  {
   "cell_type": "code",
   "execution_count": null,
   "id": "fd4fc11b-04a0-46a2-a2fd-53089aaa5d7a",
   "metadata": {},
   "outputs": [],
   "source": [
    "#Answer 7: -\n",
    "\n",
    "\n",
    "1. 'spamspamspam'\n",
    "2. 'spamspamspam'"
   ]
  },
  {
   "cell_type": "code",
   "execution_count": null,
   "id": "90967c58-d0e4-4f9f-95c2-65ea72193325",
   "metadata": {},
   "outputs": [],
   "source": [
    "8. Why is eggs a valid variable name while 100 is invalid?"
   ]
  },
  {
   "cell_type": "code",
   "execution_count": null,
   "id": "6900a3a5-650e-4075-ad54-519d78c21337",
   "metadata": {},
   "outputs": [],
   "source": [
    "#Answer 8: -\n",
    "\n",
    "Variable name should always start with Alphabates, or AlphaNumeric and underscores.\n",
    "variable names are case sensative also.\n",
    "\n",
    "num\n",
    "Num\n",
    "NUM\n",
    "num1\n",
    "\n",
    "it is Recommended that we should use lowercase words as variable name.\n"
   ]
  },
  {
   "cell_type": "code",
   "execution_count": null,
   "id": "3c35788b-0f56-460b-a2ad-0cb7b1f980ef",
   "metadata": {},
   "outputs": [],
   "source": [
    "9. What three functions can be used to get the integer, floating-point number, or string version of a value?"
   ]
  },
  {
   "cell_type": "code",
   "execution_count": 3,
   "id": "252cdd67-ca46-4558-a75b-99ec9a4c0a9f",
   "metadata": {},
   "outputs": [
    {
     "name": "stdout",
     "output_type": "stream",
     "text": [
      "<class 'int'>\n",
      "<class 'float'>\n",
      "<class 'str'>\n",
      "<class 'str'>\n"
     ]
    }
   ],
   "source": [
    "#Answer 9: - \n",
    "\n",
    "print(type(99))\n",
    "print(type(float(99)))\n",
    "print(type('99'))\n",
    "print(type(str(99)))"
   ]
  },
  {
   "cell_type": "code",
   "execution_count": null,
   "id": "d26885c7-1aa1-45da-ad42-4f188bcc8134",
   "metadata": {},
   "outputs": [],
   "source": [
    "10. Why does this expression cause an error? How can you fix it?\n",
    "'I have eaten ' + 99 + ' burritos.'"
   ]
  },
  {
   "cell_type": "code",
   "execution_count": null,
   "id": "428479dc-7d23-4cdd-a8bf-052eeb0d7496",
   "metadata": {},
   "outputs": [],
   "source": [
    "#Answer 10: - \n",
    "\n",
    "This expression is trying to concatenate integer value with string value which is not possible.\n",
    "\n",
    "Solution:-\n",
    "~For this we have convert the integer (99) value to string value ('99') or (str(99))\n",
    "    'I have eaten ' + '99' + ' burritos.'\n",
    "    'I have eaten ' + str(99) + ' burritos.'\n",
    "~We can use f String: -\n",
    "    quantity= 99\n",
    "    print(f'I have eaten {quantity} burritos.')"
   ]
  }
 ],
 "metadata": {
  "kernelspec": {
   "display_name": "Python 3 (ipykernel)",
   "language": "python",
   "name": "python3"
  },
  "language_info": {
   "codemirror_mode": {
    "name": "ipython",
    "version": 3
   },
   "file_extension": ".py",
   "mimetype": "text/x-python",
   "name": "python",
   "nbconvert_exporter": "python",
   "pygments_lexer": "ipython3",
   "version": "3.10.6"
  }
 },
 "nbformat": 4,
 "nbformat_minor": 5
}
