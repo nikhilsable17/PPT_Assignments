{
 "cells": [
  {
   "cell_type": "code",
   "execution_count": null,
   "id": "bc91070d-6295-46f3-b419-889d73d636f1",
   "metadata": {},
   "outputs": [],
   "source": [
    "1. What are the two values of the Boolean data type? How do you write them?"
   ]
  },
  {
   "cell_type": "code",
   "execution_count": null,
   "id": "e70726e4-dc5f-488e-8702-2f873d66c18b",
   "metadata": {},
   "outputs": [],
   "source": [
    "#Answer 1: - \n",
    "\n",
    "\n",
    "Bollean is a built-in data type in python, it has 2 types of values which represents the 'true value' of the expression.\n",
    "2 Values of bollean are: -\n",
    "True\n",
    "False\n",
    "\n",
    "\n",
    "We can check the data type of these values using the built-in function i.e. type(): -\n",
    "\n",
    "a= True\n",
    "type(a)  =>  <class 'bool' >\n",
    "\n",
    "b= False\n",
    "type(b)  =>  <class 'bool' >\n",
    "\n",
    "Example: - \n",
    "\n",
    "a = 13 > 10 \n",
    "print(a)\n",
    "==> True\n",
    "\n",
    "b= 13 < 10\n",
    "print(b)\n",
    "==> False"
   ]
  },
  {
   "cell_type": "code",
   "execution_count": null,
   "id": "5847d229-0f5a-4ab0-8f2d-795cc1958fe1",
   "metadata": {},
   "outputs": [],
   "source": [
    "2. What are the three different types of Boolean operators?"
   ]
  },
  {
   "cell_type": "code",
   "execution_count": null,
   "id": "c7dfc445-9aa0-45d4-b475-06a48521ed35",
   "metadata": {},
   "outputs": [],
   "source": [
    "#Answer 2: -\n",
    "\n",
    "\n",
    "The 3 types of Boolean operators are: -\n",
    "1. NOT --> Negation\n",
    "2. AND --> Conjunction\n",
    "3. OR  --> Disjunction\n",
    "\n",
    "For example: - \n",
    "x = 13\n",
    "y = 15\n",
    "\n",
    "AND: - x > 10 and y < x ==> True\n",
    "OR: -  x < 10 or  y > x ==> True\n",
    "NOT: - not(x<y)         ==> True"
   ]
  },
  {
   "cell_type": "code",
   "execution_count": null,
   "id": "dc959161-7dde-4962-b65a-6746af4ab237",
   "metadata": {},
   "outputs": [],
   "source": [
    "3. Make a list of each Boolean operator's truth tables \n",
    "   (i.e. every possible combination of Boolean values for the operator and what it evaluate )."
   ]
  },
  {
   "cell_type": "code",
   "execution_count": null,
   "id": "976fe852-b79b-4403-8281-ac640a2467ac",
   "metadata": {},
   "outputs": [],
   "source": [
    "#Answer 3: -\n",
    "\n",
    "\n",
    "When the value of...(here T = True and F = False)\n",
    "\n",
    "x     y     ==>     x and y     x or y     not x     not y\n",
    "\n",
    "T     T     ==>        T          T          F         F\n",
    "T     F     ==>        F          T          F         T\n",
    "F     T     ==>        F          T          T         F\n",
    "F     F     ==>        F          F          T         T\n",
    "\n",
    "\n",
    "Here are all the possible conditions for Boolean operator's."
   ]
  },
  {
   "cell_type": "code",
   "execution_count": null,
   "id": "b290b454-36df-41cf-9924-6d41bb507db8",
   "metadata": {},
   "outputs": [],
   "source": [
    "4. What are the values of the following expressions?\n",
    "\n",
    "(5 > 4) and (3 == 5)\n",
    "not (5 > 4)\n",
    "(5 > 4) or (3 == 5)\n",
    "not ((5 > 4) or (3 == 5))\n",
    "(True and True) and (True == False)\n",
    "(not False) or (not True)\n"
   ]
  },
  {
   "cell_type": "code",
   "execution_count": null,
   "id": "20502c44-1a8f-4f65-bc42-5ce1cef9b3b3",
   "metadata": {},
   "outputs": [],
   "source": [
    "#Answer 4: -\n",
    "\n",
    "\n",
    "(5 > 4) and (3 == 5)                   ==> False\n",
    "not (5 > 4)                            ==> False\n",
    "(5 > 4) or (3 == 5)                    ==> True\n",
    "not ((5 > 4) or (3 == 5))              ==> False\n",
    "(True and True) and (True == False)    ==> False\n",
    "(not False) or (not True)              ==> True"
   ]
  },
  {
   "cell_type": "code",
   "execution_count": null,
   "id": "e6418540-51d1-4f4b-9026-18981f19ca45",
   "metadata": {},
   "outputs": [],
   "source": [
    "5. What are the six comparison operators?"
   ]
  },
  {
   "cell_type": "code",
   "execution_count": null,
   "id": "214a5255-2702-4891-845b-aad765e51c32",
   "metadata": {},
   "outputs": [],
   "source": [
    "#Answer 5: -\n",
    "\n",
    "\n",
    "Assuming x= 10 & y=20\n",
    "\n",
    "\n",
    "1. Exactly equal to : -   \" == \"\n",
    "\n",
    "x == y  ==> (10 == 20)  ==>  False\n",
    "Here we compare or make a statement that the (1st variable) is exactly same as (2nd variable) \n",
    "\n",
    "\n",
    "\n",
    "2. Not equal to : -   \" != \"\n",
    "\n",
    "x != y  ==> (10 != 20)  ==> True\n",
    "Here we state the comdition that the (1st variable) is not eual to (2nd variable)\n",
    "\n",
    "\n",
    "\n",
    "3. Grater than : -   \" > \"\n",
    "\n",
    "x > y  ==>  (10 > 20)  ==> False\n",
    "Here we compare the 2 or more values, variables, etc.\n",
    "\n",
    "\n",
    "\n",
    "4. Less than : -    \" < \"\n",
    "\n",
    "x < y  ==>  (10 < 20)  ==> True\n",
    "Here we compare 2 values saying that the (1st element) is smaller than the (2nd element)\n",
    "\n",
    "\n",
    "\n",
    "5. Greater than or Equal to : -   \" >= \"\n",
    "\n",
    "x >= y  ==> (10 >= 20)  ==> False\n",
    "Here we compare 2 values saying that the (1st element) is Greater than or equal to the (2nd element)\n",
    "The result will be 'True' only if the value of (1st element) is greater or equal to the (2nd element)\n",
    "\n",
    "\n",
    "\n",
    "6. Less than or Equal to : -   \" <= \"\n",
    "\n",
    "x <= y  ==>  (10 <= 20 )  ==> True\n",
    "Here we compare 2 values saying that the (1st element) is Lesser than or equal to the (2nd element)\n",
    "The result will be 'True' only if the value of (1st element) is lesser or equal to the (2nd element)"
   ]
  },
  {
   "cell_type": "code",
   "execution_count": null,
   "id": "f230e8ae-b60b-4e0e-aa80-f097117d7430",
   "metadata": {},
   "outputs": [],
   "source": [
    "6. How do you tell the difference between the equal to and assignment operators?\n",
    "    Describe a condition and when you would use one."
   ]
  },
  {
   "cell_type": "code",
   "execution_count": null,
   "id": "1d77debd-fcc3-4b12-aad5-071e5b9479f1",
   "metadata": {},
   "outputs": [],
   "source": [
    "#Answer 6: - \n",
    "\n",
    "\n",
    "Assuming: - a = 10 & b = 20 (this is also a Assignment operator!)\n",
    "=\n",
    "\n",
    "\n",
    "~Assignment operator: - (a = 10)\n",
    "    We use '=' sign for assigning a value to a variable!\n",
    "    Example: - \n",
    "        a = 10\n",
    "        b = 20\n",
    "        a = b (\"a will now get updated to 20\")\n",
    "        a = b-17 ( 'here the result of the expression will get stored in the variable a') \n",
    "        \n",
    "        \n",
    "        \n",
    "~Equal to : - (a == 10) (Comparision Operator)\n",
    "    We use '==' sign to check the condition, weather the assigned value exactly matches, Eighter with the value stored in the variable or with any value on the left handside!\n",
    "    We can use Equal operator in the conditions where we want to compare weather: -\n",
    "        a == 10   ==> True\n",
    "        a == 20   ==> False\n",
    "        a == b    ==> False\n",
    "        \n",
    "Simple Odd Even example (Comparision Operator): -\n",
    "\n",
    "x = int(input('Enter any Number: \\n' ))  #Assignment operator!\n",
    "if (x % 2 == 0):  #Comparision Operator!\n",
    "    print('The value is an Even number!')\n",
    "else:\n",
    "    print('The value is a Odd number!')"
   ]
  },
  {
   "cell_type": "code",
   "execution_count": null,
   "id": "bdfbfd64-4786-46dc-aab7-40da0c730592",
   "metadata": {},
   "outputs": [],
   "source": [
    "7. Identify the three blocks in this code:\n",
    "spam = 0\n",
    "if spam == 10:\n",
    "print('eggs')\n",
    "if spam > 5:\n",
    "print('bacon')\n",
    "else:\n",
    "print('ham')\n",
    "print('spam')\n",
    "print('spam')"
   ]
  },
  {
   "cell_type": "code",
   "execution_count": null,
   "id": "97b90a85-7441-4cc5-8363-429500b97ad8",
   "metadata": {},
   "outputs": [],
   "source": [
    "#Answer 7: -\n",
    "\n",
    "\n",
    "spam = 0\n",
    "if spam==10:                  #If Block_1\n",
    "    print('eggs')\n",
    "if spam > 5:                  #If Block_2\n",
    "    print('bacon')\n",
    "else:                         #Else block\n",
    "    print('ham')\n",
    "    print('spam')\n",
    "    print('spam')"
   ]
  },
  {
   "cell_type": "code",
   "execution_count": null,
   "id": "f0f84703-1a8d-49cf-aabd-534d3d1caa85",
   "metadata": {},
   "outputs": [],
   "source": [
    "8. Write code that prints Hello if 1 is stored in spam, \n",
    "prints Howdy if 2 is stored in spam, and prints Greetings! if anything else is stored in spam."
   ]
  },
  {
   "cell_type": "code",
   "execution_count": null,
   "id": "288d2d3b-0bc2-430e-a772-a7793bfcc9d2",
   "metadata": {},
   "outputs": [],
   "source": [
    "#Answer 8: - \n",
    "\n",
    "\n",
    "spam = input('Enter anything : - \\n')\n",
    "if spam.isnumeric(): #here we check weather the input is a numeric value or not\n",
    "    spam = int(spam) #if the input value contains number then we convert the input type to integer value!\n",
    "                     # if we don't do this than any input will be considered as a string (Default)\n",
    "    \n",
    "if spam == 1:\n",
    "    print('Hello')\n",
    "elif spam == 2:\n",
    "    print('Howdy')\n",
    "else:\n",
    "    print('Greetings!')"
   ]
  },
  {
   "cell_type": "code",
   "execution_count": null,
   "id": "49f03032-2c83-4a20-b238-80dbc3dfdfc1",
   "metadata": {},
   "outputs": [],
   "source": [
    "9.If your programme is stuck in an endless loop, what keys you’ll press?"
   ]
  },
  {
   "cell_type": "code",
   "execution_count": null,
   "id": "10f782c9-4891-4666-a979-46dd6019bd2b",
   "metadata": {},
   "outputs": [],
   "source": [
    "#Answer 9: -\n",
    "\n",
    "Endless loop is the condition occurs when the programmer writes the end statement or exit condition is written incorrectly.\n",
    "In such conditions, we can : -\n",
    "\n",
    "Press: - Ctrl + C\n",
    "use a keyword: - break\n",
    "call a method: - exit()\n",
    "\n",
    "\n",
    "Example of a endless loop: - \n",
    "\n",
    "x = 1 \n",
    "while x==1:\n",
    "    y = input(“Enter anything: - \\n”)\n",
    "    print(f'You entered {b}!')"
   ]
  },
  {
   "cell_type": "code",
   "execution_count": null,
   "id": "d87c0af9-6188-49c6-8c1c-f97ac35d2f84",
   "metadata": {},
   "outputs": [],
   "source": [
    "10. How can you tell the difference between break and continue?"
   ]
  },
  {
   "cell_type": "code",
   "execution_count": null,
   "id": "24c0bc0d-2f86-4fe8-9af1-52ad2cdd5455",
   "metadata": {},
   "outputs": [],
   "source": [
    "#Answer 10: - \n",
    "\n",
    "'''\n",
    "BREAK STATEMENT: -\n",
    "break statement is used to terminate a certain loop in which it is present!\n",
    "it executes the further statements (if any) after hitting!\n",
    "when we are in the nested loop, the break statement works only for the loop in which 'break keyword' is present!\n",
    "'''\n",
    "#For Example: - \n",
    "\n",
    "var = 'iNeuron'\n",
    "print('Break Statement: - ')\n",
    "for i in var:\n",
    "    print(i)\n",
    "    #here we break the loop whenever we hit 'o'\n",
    "    if i == 'r':\n",
    "        break\n",
    "print(\"We are out of the for loop!\")\n",
    "print()\n",
    "print()\n",
    "\n",
    "\n",
    "\n",
    "'''\n",
    "CONTINUE STATEMENT: -\n",
    "continue statement in python is used or works opposite to break statement, as it dosen't terminates the loop,\n",
    "continue statement takes the next iteration after hitting the statement!\n",
    "when in nested loop,  it performs same as the break statement, works only for that perticular loop!\n",
    "'''\n",
    "\n",
    "#For Example Continue STATEMENT: - \n",
    "print('Continue Statement: - ')\n",
    "for i in range(1, 21):\n",
    "    if i == 8 or i == 16:\n",
    "        continue\n",
    "    else:\n",
    "        \n",
    "        print(i, end = \" \")"
   ]
  },
  {
   "cell_type": "code",
   "execution_count": null,
   "id": "9f365948-8f4f-4239-a381-7a8688fd8831",
   "metadata": {},
   "outputs": [],
   "source": [
    "11. In a for loop, what is the difference between range(10), range(0, 10), and range(0, 10, 1)?"
   ]
  },
  {
   "cell_type": "code",
   "execution_count": null,
   "id": "74db91d8-09c1-4cdb-b7aa-ffda1c18cc60",
   "metadata": {},
   "outputs": [],
   "source": [
    "#Answer 11: - \n",
    "'''\n",
    "RANGE(end): -\n",
    "range(n) will itrates the loop till the nth times starting from 0 to n-1, it will not take the last element!\n",
    "and returns a series of numbers.\n",
    "'''\n",
    "#For example: - \n",
    "print('Example for range(10): - ')\n",
    "for i in range(10):\n",
    "    print(i)\n",
    "print()\n",
    "print()\n",
    "\n",
    "'''\n",
    "RANGE(start, end): -\n",
    "range(0, n) will itrate the loop till the nth number starting from the number mentioned first position.\n",
    "say: - range(2, 10) then the loop will itrating from 2 to 9 and return the respective value!\n",
    "'''\n",
    "\n",
    "#For example: -\n",
    "print('Example for range(1,10): - ')\n",
    "for i in range(1,10):\n",
    "    print(i)\n",
    "print()\n",
    "print()\n",
    "\n",
    "'''\n",
    "RANGE(start, end, step): -\n",
    "here we iterate a loop in a sequential manner, in stepping with the mentioned value\n",
    "say: - range(0,10,2) then the loop will start iterating from 0 will take 2 steps in between and end (0, 2, 4, 6, 8)!\n",
    "'''\n",
    "#For example: -\n",
    "print('Example for range(1,10,1): - ')\n",
    "for i in range(0,10,2): # I have changed the value so that we can see the difference!\n",
    "    print(i)\n",
    "print()\n",
    "print()"
   ]
  },
  {
   "cell_type": "code",
   "execution_count": null,
   "id": "3bc9406b-b285-4811-a459-0f8fd0665457",
   "metadata": {},
   "outputs": [],
   "source": [
    "12. Write a short program that prints the numbers 1 to 10 using a for loop. \n",
    "Then write an equivalent program that prints the numbers 1 to 10 using a while loop."
   ]
  },
  {
   "cell_type": "code",
   "execution_count": null,
   "id": "c94e7373-9201-4a07-9e6f-d59a6c1a64e2",
   "metadata": {},
   "outputs": [],
   "source": [
    "#Answer 12: -\n",
    "\n",
    "print('Using for loop: - \\n')\n",
    "for i in range(1,11):\n",
    "    print(i)\n",
    "print()\n",
    "print()\n",
    "\n",
    "print('Using While loop: - \\n')\n",
    "for i in range(1,11):\n",
    "    print(i) "
   ]
  },
  {
   "cell_type": "code",
   "execution_count": null,
   "id": "eba1c7f6-1dd2-49a9-bd42-a4cbeffd590b",
   "metadata": {},
   "outputs": [],
   "source": [
    "13. If you had a function named bacon() inside a module named spam, how would you call it after importing spam?"
   ]
  },
  {
   "cell_type": "code",
   "execution_count": null,
   "id": "9cf03ddf-4efe-4b03-a576-7ac7699c5411",
   "metadata": {},
   "outputs": [],
   "source": [
    "#Answer 13: -\n",
    "\n",
    "We can call that function by: - \n",
    "spam.bacon()"
   ]
  }
 ],
 "metadata": {
  "kernelspec": {
   "display_name": "Python 3 (ipykernel)",
   "language": "python",
   "name": "python3"
  },
  "language_info": {
   "codemirror_mode": {
    "name": "ipython",
    "version": 3
   },
   "file_extension": ".py",
   "mimetype": "text/x-python",
   "name": "python",
   "nbconvert_exporter": "python",
   "pygments_lexer": "ipython3",
   "version": "3.10.6"
  }
 },
 "nbformat": 4,
 "nbformat_minor": 5
}
