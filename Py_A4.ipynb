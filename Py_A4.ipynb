{
 "cells": [
  {
   "cell_type": "code",
   "execution_count": null,
   "id": "0f296eb2-b07f-4ee5-bd19-c1012b73d528",
   "metadata": {},
   "outputs": [],
   "source": [
    "1. What exactly is []?"
   ]
  },
  {
   "cell_type": "code",
   "execution_count": null,
   "id": "73f7250a-b762-428d-a4ae-cb9ddc7dd662",
   "metadata": {},
   "outputs": [],
   "source": [
    "#Answer 1: -\n",
    "\n",
    "\n",
    "[ ] denotes an empty list in python!"
   ]
  },
  {
   "cell_type": "code",
   "execution_count": null,
   "id": "c24bc77d-ad09-4e07-a394-214cb5a71fe5",
   "metadata": {},
   "outputs": [],
   "source": [
    "2. In a list of values stored in a variable called spam, \n",
    "how would you assign the value 'hello' as the third value? (Assume [2, 4, 6, 8, 10] are in spam.)"
   ]
  },
  {
   "cell_type": "code",
   "execution_count": null,
   "id": "9c058cfc-a2ac-4317-a819-12d3a9eb99ee",
   "metadata": {},
   "outputs": [],
   "source": [
    "# Answer 2: - \n",
    "\n",
    "\n",
    "We can add any value in between the list with the help of following keywords: -\n",
    ".append()\n",
    ".extend()\n",
    ".insert()\n",
    "etc"
   ]
  },
  {
   "cell_type": "code",
   "execution_count": null,
   "id": "6c05c9b4-3cc2-4fde-a76a-74e5fa1116f2",
   "metadata": {},
   "outputs": [],
   "source": [
    "'''Sample code for Question number 2'''\n",
    "\n",
    "spam = [2,4,6,8,10]\n",
    "x = 'hello'\n",
    "\n",
    "print('Original list: - '+ str(spam))\n",
    "print('Original string to add: - '+ str(x))\n",
    "print()\n",
    "spam.insert(3, x)\n",
    "print('Final List after Appending at 3rd position: - '+ str(spam))"
   ]
  },
  {
   "cell_type": "code",
   "execution_count": null,
   "id": "53207a98-d261-41f6-ae6d-83d83b043900",
   "metadata": {},
   "outputs": [],
   "source": [
    "'''\n",
    "Let's pretend the spam includes the list ['a', 'b', 'c', 'd'] for the next three queries.\n",
    "'''\n",
    "\n",
    "3. What is the value of spam[int(int('3' * 2) / 11)]?"
   ]
  },
  {
   "cell_type": "code",
   "execution_count": null,
   "id": "2d0d0f31-5ceb-451e-846e-0bd04bb0ca1a",
   "metadata": {},
   "outputs": [],
   "source": [
    "#Answer 3: -\n",
    "\n",
    "[3]\n",
    "'int type'"
   ]
  },
  {
   "cell_type": "code",
   "execution_count": null,
   "id": "f538c866-fe82-46d8-a6ad-290818190b61",
   "metadata": {},
   "outputs": [],
   "source": [
    "4. What is the value of spam[-1]?"
   ]
  },
  {
   "cell_type": "code",
   "execution_count": null,
   "id": "6e6d130f-0801-4ce6-a3ac-d171a0f498b7",
   "metadata": {},
   "outputs": [],
   "source": [
    "#Answer 4: - \n",
    "\n",
    "spam = ['a', 'b', 'c', 'd']\n",
    "print(spam[-1])\n",
    "\n",
    "# o/p ==> d\n",
    "\n",
    "As we have given -1 this revers the list and print the value from the end position!"
   ]
  },
  {
   "cell_type": "code",
   "execution_count": null,
   "id": "8467bef6-dcd4-4406-8ec8-2d1952acc699",
   "metadata": {},
   "outputs": [],
   "source": [
    "5. What is the value of spam[:2]?"
   ]
  },
  {
   "cell_type": "code",
   "execution_count": null,
   "id": "6bf8e9b5-efd0-416c-bcd2-fbc65d5b53d5",
   "metadata": {},
   "outputs": [],
   "source": [
    "# Answer 5: -\n",
    "\n",
    "spam = ['a', 'b', 'c', 'd']\n",
    "print(spam[:2])\n",
    "\n",
    "# o/p ==> ['a', 'b']\n",
    "\n",
    ":2 indicates the end comdition ==> [start : end]\n",
    "[:2] means start to itrate from 0th index and end @ 2nd index!"
   ]
  },
  {
   "cell_type": "code",
   "execution_count": null,
   "id": "161b75fc-9ed5-42e8-80e3-5b56154d4b2a",
   "metadata": {},
   "outputs": [],
   "source": [
    "'''Let's pretend bacon has the list [3.14, 'cat,' 11, 'cat,' True] for the next three questions.'''\n",
    "\n",
    "6. What is the value of bacon.index('cat')?"
   ]
  },
  {
   "cell_type": "code",
   "execution_count": null,
   "id": "c9364729-6770-4846-9491-98347f7f3cce",
   "metadata": {},
   "outputs": [],
   "source": [
    "# Answer 6: -\n",
    "\n",
    "'Just corrected some mistakes in the question and answered them'\n",
    "\n",
    "bacon = [3.14, 'cat,', 11, 'cat,', True]\n",
    "print(bacon.index('cat,'))\n",
    "\n",
    "#o/p ==> 1 \n",
    "Because the 'cat,' is at 1st index in the list!"
   ]
  },
  {
   "cell_type": "code",
   "execution_count": null,
   "id": "ce2d48a1-3ff0-4746-addf-55015a80bac2",
   "metadata": {},
   "outputs": [],
   "source": [
    "7. How does bacon.append(99) change the look of the list value in bacon?"
   ]
  },
  {
   "cell_type": "code",
   "execution_count": 4,
   "id": "a96437c9-97f2-4c80-a6f4-6e61f7f21c2c",
   "metadata": {},
   "outputs": [
    {
     "name": "stdout",
     "output_type": "stream",
     "text": [
      "[3.14, 'cat,', 11, 'cat,', True, 99]\n"
     ]
    }
   ],
   "source": [
    "# Answer 7: - \n",
    "\n",
    "bacon = [3.14, 'cat,', 11, 'cat,', True]\n",
    "bacon.append(99)\n",
    "print(bacon)\n",
    "\n",
    "#o/p ==> [3.14, 'cat,', 11, 'cat,', True, 99]"
   ]
  },
  {
   "cell_type": "code",
   "execution_count": null,
   "id": "c62933a7-954b-4302-9b74-5c2d6c678333",
   "metadata": {},
   "outputs": [],
   "source": [
    "8. How does bacon.remove('cat') change the look of the list in bacon?"
   ]
  },
  {
   "cell_type": "code",
   "execution_count": 6,
   "id": "2e939b96-805b-49c5-85eb-e95cdd314653",
   "metadata": {},
   "outputs": [
    {
     "name": "stdout",
     "output_type": "stream",
     "text": [
      "[3.14, 11, 'cat,', True]\n"
     ]
    }
   ],
   "source": [
    "# Answer 8: -\n",
    "\n",
    "\n",
    "bacon = [3.14, 'cat,', 11, 'cat,', True]\n",
    "bacon.remove('cat,')\n",
    "print(bacon)\n",
    "\n",
    "#o/p ==> [3.14, 11, 'cat,', True] \n",
    "Here it removes the first element from the list which we have gaven!"
   ]
  },
  {
   "cell_type": "code",
   "execution_count": null,
   "id": "d9b3e164-4fdb-4518-b2f9-515ee43b3864",
   "metadata": {},
   "outputs": [],
   "source": [
    "9. What are the list concatenation and list replication operators?"
   ]
  },
  {
   "cell_type": "code",
   "execution_count": null,
   "id": "e44af5f2-d176-4a6b-bcdb-b69e052ba406",
   "metadata": {},
   "outputs": [],
   "source": [
    "# Answer 9: -\n",
    "\n",
    "\n",
    "Concatenation means adding new elements to the previous once, similarly in List concatenation \n",
    "Elements of 1 list are added at the end of another list!\n",
    "\n",
    "\n",
    "'Replicating Operators: -'\n",
    "\n",
    "As the String concatenation when we use 'Nikhil' + 'Sable' comes out to be 'NikhilSable' similarly,\n",
    "when there is + in between 2 list it comes out to be a new list\n",
    "\n",
    "Example: - '+ Operator'\n",
    "[1,2,3,4,5] + [6,7,8,9,10] ==> [1, 2, 3, 4, 5, 6, 7, 8, 9, 10]\n"
   ]
  },
  {
   "cell_type": "code",
   "execution_count": null,
   "id": "ec2694a1-a7c8-4e15-b33d-039770760e22",
   "metadata": {},
   "outputs": [],
   "source": [
    "10. What is difference between the list methods append() and insert()?"
   ]
  },
  {
   "cell_type": "code",
   "execution_count": null,
   "id": "edc37d63-fe8e-49ce-a3f5-c9e91c0b74ec",
   "metadata": {},
   "outputs": [],
   "source": [
    "# Answer 10: - \n",
    "\n",
    "\n",
    "When we want to add a new element at the end of the list we can use ' .append() ' method.\n",
    "When we want to add a new element at a specific position in a list then we should use ' .insert() ' method."
   ]
  },
  {
   "cell_type": "code",
   "execution_count": null,
   "id": "81de1d25-0866-4a91-af51-cc7d6149ff51",
   "metadata": {},
   "outputs": [],
   "source": [
    "11. What are the two methods for removing items from a list?"
   ]
  },
  {
   "cell_type": "code",
   "execution_count": null,
   "id": "5b4e8b87-4dd3-477f-97dc-48f388477338",
   "metadata": {},
   "outputs": [],
   "source": [
    "# Answer 11: - \n",
    "\n",
    "\n",
    ".remove('argument')\n",
    ".pop('index')\n",
    "\n",
    "\n",
    ".remove() Removes the first element (case sensative passed as the argument) from the list.\n",
    "\n",
    "'Example: -'\n",
    "l = [1,2,3,34,5,6,90,78,9,90]\n",
    "l.remove(90)\n",
    "print(l)   # [1, 2, 3, 34, 5, 6, 78, 9, 90] first 90 is removed from the lsit!!\n",
    "\n",
    "\n",
    "\n",
    ".pop() pops removes the element of which we have given the index of, and prints the element which is poped!!\n",
    "\n",
    "'Example: - '\n",
    "l = [1,2,3,34,5,6,90,78,9,90]\n",
    "l = l.pop(7) # 6th means it will remove the element at 6th position!!\n",
    "print(l)   # 90 "
   ]
  },
  {
   "cell_type": "code",
   "execution_count": null,
   "id": "917dd038-d7bb-4ce5-a8bc-1f090af7ed89",
   "metadata": {},
   "outputs": [],
   "source": [
    "12. Describe how list values and string values are identical."
   ]
  },
  {
   "cell_type": "code",
   "execution_count": null,
   "id": "7cf7f3a8-c947-451c-add1-4f4fcc9f1bd2",
   "metadata": {},
   "outputs": [],
   "source": [
    "# Answer 12: -\n",
    "\n",
    "\n",
    "String values and list values both have length,\n",
    "String length is calculated by number of characters present in the string each character has a specific index,\n",
    "Similarly in the list each element have a specific index!\n",
    "Both are itratable!!"
   ]
  },
  {
   "cell_type": "code",
   "execution_count": null,
   "id": "9cf39178-cc58-4106-a39a-920d32397ed6",
   "metadata": {},
   "outputs": [],
   "source": [
    "13. What's the difference between tuples and lists?"
   ]
  },
  {
   "cell_type": "code",
   "execution_count": null,
   "id": "752a888f-dd95-404d-8c82-e46d25bdd979",
   "metadata": {},
   "outputs": [],
   "source": [
    "# Answer 13: - \n",
    "\n",
    "\n",
    "list has a dynamic characteristics where as the tuple are static.\n",
    "list can be modified as per requirement, but tuples cannot be modified\n",
    "tuples are denoted by ()\n",
    "list are denoted by []"
   ]
  },
  {
   "cell_type": "code",
   "execution_count": null,
   "id": "ae2e691b-6453-47ae-b40c-48480d82cc67",
   "metadata": {},
   "outputs": [],
   "source": [
    "14. How do you type a tuple value that only contains the integer 42?"
   ]
  },
  {
   "cell_type": "code",
   "execution_count": 7,
   "id": "bb2b377f-e678-429b-a989-7ba8def4cbb1",
   "metadata": {},
   "outputs": [
    {
     "data": {
      "text/plain": [
       "tuple"
      ]
     },
     "execution_count": 7,
     "metadata": {},
     "output_type": "execute_result"
    }
   ],
   "source": [
    "# Answer 14: -\n",
    "\n",
    "x = (42,)\n",
    "type(x)"
   ]
  },
  {
   "cell_type": "code",
   "execution_count": null,
   "id": "0e334209-ab1a-4fe2-9f03-bb12d9fecd25",
   "metadata": {},
   "outputs": [],
   "source": [
    "15. How do you get a list values tuple form? \n",
    "How do you get a tuple value's list form?"
   ]
  },
  {
   "cell_type": "code",
   "execution_count": null,
   "id": "039897f4-bf06-420f-9cb8-11ee205979c1",
   "metadata": {},
   "outputs": [],
   "source": [
    "# Answer 15: -\n",
    "\n",
    "'''Converting list to tuples'''\n",
    "We can convert list to tuples in 2 ways,\n",
    "\n",
    "1) using ( 'number/str',)\n",
    "\n",
    "l = [2,3,4,5,6,7,8]\n",
    "x = (l,)\n",
    "print(type(x))\n",
    "\n",
    "\n",
    "2) using ('tuple()')\n",
    "\n",
    "l = [2,3,4,5,6,7,8]\n",
    "x = tuple(l)\n",
    "print(type(x))\n",
    "\n",
    "\n",
    "----------------------------------------------------------------\n",
    "\n",
    "\n",
    "'''Converting tuples to list'''\n",
    "We can convert tuples to list in 2 ways,\n",
    "\n",
    "\n",
    "1) using --- [( 'number/str')]\n",
    "\n",
    "l = (2,3,4,5,6,7,8)\n",
    "x = [l]\n",
    "\n",
    "print(f'Type of l: - {type(l)}')\n",
    "print(f'Type of x: - {type(x)}')\n",
    "\n",
    "\n",
    "2) using ('.list()')\n",
    "\n",
    "l = (2,3,4,5,6,7,8)\n",
    "x = list(l)\n",
    "\n",
    "print(f'Type of l: - {type(l)}')\n",
    "print(f'Type of x: - {type(x)}')"
   ]
  },
  {
   "cell_type": "code",
   "execution_count": null,
   "id": "4297b37e-4b29-460f-90ff-8155dc6122de",
   "metadata": {},
   "outputs": [],
   "source": [
    "16. Variables that \"contain\" list values are not necessarily lists themselves. Instead, what do they contain?"
   ]
  },
  {
   "cell_type": "code",
   "execution_count": null,
   "id": "29ebbab4-fef0-4ef1-931c-c09ef7006643",
   "metadata": {},
   "outputs": [],
   "source": [
    "# Answer 16: -\n",
    "\n",
    "list values may contain Reference to the list values!"
   ]
  },
  {
   "cell_type": "code",
   "execution_count": null,
   "id": "b113d2fc-a93e-41d6-868c-8b38ff54024d",
   "metadata": {},
   "outputs": [],
   "source": [
    "17. How do you distinguish between copy.copy() and copy.deepcopy()?"
   ]
  },
  {
   "cell_type": "code",
   "execution_count": null,
   "id": "00e385dc-1033-46b4-88b7-7825beac6ab9",
   "metadata": {},
   "outputs": [],
   "source": [
    "# Answer 17: -\n",
    "\n",
    ".copy(): -\n",
    "In order to the greatest extent possible, a copy creates a new compound object \n",
    "and then references the objects contained in the original within it.\n",
    "\n",
    ".deepcopy()\n",
    "A deep copy creates a new compound object before inserting \n",
    "copies of the items found in the original into it in a recursive manner."
   ]
  }
 ],
 "metadata": {
  "kernelspec": {
   "display_name": "Python 3 (ipykernel)",
   "language": "python",
   "name": "python3"
  },
  "language_info": {
   "codemirror_mode": {
    "name": "ipython",
    "version": 3
   },
   "file_extension": ".py",
   "mimetype": "text/x-python",
   "name": "python",
   "nbconvert_exporter": "python",
   "pygments_lexer": "ipython3",
   "version": "3.10.6"
  }
 },
 "nbformat": 4,
 "nbformat_minor": 5
}
