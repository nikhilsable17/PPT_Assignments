{
 "cells": [
  {
   "cell_type": "code",
   "execution_count": null,
   "id": "3b055f4f-c626-4d37-9e2f-521293db53bf",
   "metadata": {},
   "outputs": [],
   "source": [
    "1. Why are functions advantageous to have in your programs?"
   ]
  },
  {
   "cell_type": "code",
   "execution_count": null,
   "id": "5d689013-e588-443c-a4d4-249540434081",
   "metadata": {},
   "outputs": [],
   "source": [
    "#Answer 1: -\n",
    "\n",
    "Advantages of Functions in program: -\n",
    "\n",
    "1. Functions provide reusability and also reduces redundancy.\n",
    "2. Functions make the code from compatible!\n",
    "3. Programs becames more readable and gets easy to manage\n",
    "4. We get code clarity.\n",
    "5. Divides huge code in pieces.\n",
    "6. improves code hiding."
   ]
  },
  {
   "cell_type": "code",
   "execution_count": null,
   "id": "4416fe64-6cab-4571-b540-eaa15c0ef2fb",
   "metadata": {},
   "outputs": [],
   "source": [
    "2. When does the code in a function run: when it's specified or when it's called?"
   ]
  },
  {
   "cell_type": "code",
   "execution_count": null,
   "id": "a520ab4f-0fd3-4c1d-96bd-23dca917fd8e",
   "metadata": {},
   "outputs": [],
   "source": [
    "#Answer 2: - \n",
    "\n",
    "\n",
    "Function always get executed when it is called!"
   ]
  },
  {
   "cell_type": "code",
   "execution_count": null,
   "id": "e1fbce7f-b289-43c3-8269-6c8ee2ed816b",
   "metadata": {},
   "outputs": [],
   "source": [
    "3. What statement creates a function?"
   ]
  },
  {
   "cell_type": "code",
   "execution_count": null,
   "id": "13e8a968-a2b8-443d-8a86-911827c67969",
   "metadata": {},
   "outputs": [],
   "source": [
    "#Answer 3: -\n",
    "\n",
    "def keyword is used to create a function in python\n",
    "After which we write the name of the function following with the parentheses and a colone at the end!\n",
    "\n",
    "'Example: -'\n",
    "def firstfunction():"
   ]
  },
  {
   "cell_type": "code",
   "execution_count": null,
   "id": "53f8efee-dfd1-4379-9f0d-1f019bc809e0",
   "metadata": {},
   "outputs": [],
   "source": [
    "4. What is the difference between a function and a function call?"
   ]
  },
  {
   "cell_type": "code",
   "execution_count": null,
   "id": "9f58f3e4-0a6a-40a3-bc8d-893183288a2b",
   "metadata": {},
   "outputs": [],
   "source": [
    "# Answer 4: - \n",
    "\n",
    "\n",
    "Functions are the piece of code which we write to achieve reusability of the same code\n",
    "so as not to write the same code again and agian\n",
    "\n",
    "Where as\n",
    "\n",
    "unless and untill we call or invoke the respective function we cannot use the created function!\n",
    "We have to call the function to use it!!"
   ]
  },
  {
   "cell_type": "code",
   "execution_count": null,
   "id": "aeae1ea7-66b9-4f5c-8a77-927d98121633",
   "metadata": {},
   "outputs": [],
   "source": [
    "5. How many global scopes are there in a Python program? How many local scopes?"
   ]
  },
  {
   "cell_type": "code",
   "execution_count": null,
   "id": "219e15c7-0754-4fd7-a045-08bd4dc831b4",
   "metadata": {},
   "outputs": [],
   "source": [
    "#Answer 5: - \n",
    "\n",
    "\n",
    "We can have at most one global variable in python program!\n",
    "Takling about the local scope, we can create as many local variables as they have a limited access!"
   ]
  },
  {
   "cell_type": "code",
   "execution_count": null,
   "id": "60dfa348-a78e-434b-8a70-396cca300d3f",
   "metadata": {},
   "outputs": [],
   "source": [
    "6. What happens to variables in a local scope when the function call returns?"
   ]
  },
  {
   "cell_type": "code",
   "execution_count": null,
   "id": "93629b37-3381-4cc6-88e3-a49361b8a982",
   "metadata": {},
   "outputs": [],
   "source": [
    "#Answer 6: - \n",
    "\n",
    "\n",
    "Whenever the function call return i.e. when the function gets executed the local scope gets destroyed.\n",
    "The variable is no longer available!"
   ]
  },
  {
   "cell_type": "code",
   "execution_count": null,
   "id": "23ad5200-8e9b-4bb7-84be-d649ea86800f",
   "metadata": {},
   "outputs": [],
   "source": [
    "7. What is the concept of a return value? Is it possible to have a return value in an expression?"
   ]
  },
  {
   "cell_type": "code",
   "execution_count": null,
   "id": "25a0d02d-1ad6-482a-b22d-f904df63bef4",
   "metadata": {},
   "outputs": [],
   "source": [
    "#Answer 7: -\n",
    "\n",
    "\n",
    "Return value is a value that a function returns to the calling function when the task is completed!\n",
    "talking about the return value in expression,\n",
    "We cannot value a return value in expression but the 'result of that expression can be given as the Return value'"
   ]
  },
  {
   "cell_type": "code",
   "execution_count": null,
   "id": "c8680df5-b01d-487d-ac3f-9b90785040f8",
   "metadata": {},
   "outputs": [],
   "source": [
    "8. If a function does not have a return statement, what is the return value of a call to that function?"
   ]
  },
  {
   "cell_type": "code",
   "execution_count": null,
   "id": "6ac5f818-7d40-4d37-8542-7d7ee8d20392",
   "metadata": {},
   "outputs": [],
   "source": [
    "#Answer 8: -\n",
    "\n",
    "\n",
    "Functions without a return statement or one without a return value will always returns None!"
   ]
  },
  {
   "cell_type": "code",
   "execution_count": null,
   "id": "4e3ff5f9-5f44-45a4-bc64-5f2af0083b8b",
   "metadata": {},
   "outputs": [],
   "source": [
    "9. How do you make a function variable refer to the global variable?"
   ]
  },
  {
   "cell_type": "code",
   "execution_count": null,
   "id": "9fbc4efb-165a-4e45-82bb-7e890765faed",
   "metadata": {},
   "outputs": [],
   "source": [
    "Normally when we create any variable inside a function then that variable is a local variable\n",
    "If we want to reffer the same variable as global variable then we can use,\n",
    "global keyword \n",
    "\n",
    "'Example: - '\n",
    "\n",
    "def myfunction():\n",
    "    global a\n",
    "    a = \"& I'm pursuing a Full stack data science course in INeuron\"\n",
    "    \n",
    "myfunction()\n",
    "print('Hii My name is Nikhil '+ a)\n",
    "\n",
    "==> \"Hii My name is Nikhil & I'm pursuing a Full stack data science course in INeuron\"\n",
    "\n",
    "\n",
    "if we dont give a global keyword then we will get a 'Name Error'\n",
    "saying that variable a is not defined!"
   ]
  },
  {
   "cell_type": "code",
   "execution_count": null,
   "id": "21b9927b-9efd-4ff6-bdaa-6ea5bb6f4a6e",
   "metadata": {},
   "outputs": [],
   "source": [
    "10. What is the data type of None?"
   ]
  },
  {
   "cell_type": "code",
   "execution_count": null,
   "id": "40683858-eb9c-4e87-8e1d-5aadbf74c519",
   "metadata": {},
   "outputs": [],
   "source": [
    "#Answer 10: -\n",
    "\n",
    "None is a keyword of data type of class NoneType!"
   ]
  },
  {
   "cell_type": "code",
   "execution_count": null,
   "id": "0e95ba52-879c-438f-b627-758ca93a763f",
   "metadata": {},
   "outputs": [],
   "source": [
    "11. What does the sentence import areallyourpetsnamederic do?"
   ]
  },
  {
   "cell_type": "code",
   "execution_count": null,
   "id": "4840687d-0a1f-45c0-9c55-5615cfe2e965",
   "metadata": {},
   "outputs": [],
   "source": [
    "#Answer 11: -\n",
    "\n",
    "Sorry but according to my knowledge theres no module name called 'areallyourpetsnamederic'\n",
    "Or Im unable to answer this question"
   ]
  },
  {
   "cell_type": "code",
   "execution_count": null,
   "id": "93f0e28c-76d5-4eff-aa23-a1f6a5fb56d8",
   "metadata": {},
   "outputs": [],
   "source": [
    "12. If you had a bacon() feature in a spam module, what would you call it after importing spam?"
   ]
  },
  {
   "cell_type": "code",
   "execution_count": null,
   "id": "9551efe2-39d1-4d2c-af03-fde579df945e",
   "metadata": {},
   "outputs": [],
   "source": [
    "#Answer 12: -\n",
    "\n",
    "spam.bacon()"
   ]
  },
  {
   "cell_type": "code",
   "execution_count": null,
   "id": "390c8ce1-2a0b-44a4-840f-327a1116cb80",
   "metadata": {},
   "outputs": [],
   "source": [
    "13. What can you do to save a programme from crashing if it encounters an error?"
   ]
  },
  {
   "cell_type": "code",
   "execution_count": null,
   "id": "434db086-ab94-4b01-9fc7-b2b916b3580a",
   "metadata": {},
   "outputs": [],
   "source": [
    "#Answer 13: -\n",
    "\n",
    "\n",
    "We should execute the whole program in try and catch blocks\n",
    "As when we get any kind of error in between then we will get an Error message instead of crashing! "
   ]
  },
  {
   "cell_type": "code",
   "execution_count": null,
   "id": "f60441e3-cc92-40ed-b827-ca79bd71fcbd",
   "metadata": {},
   "outputs": [],
   "source": [
    "14. What is the purpose of the try clause? What is the purpose of the except clause?"
   ]
  },
  {
   "cell_type": "code",
   "execution_count": null,
   "id": "24740262-634a-4e4b-94a4-5a753adb367c",
   "metadata": {},
   "outputs": [],
   "source": [
    "#Answer 14: -\n",
    "\n",
    "\n",
    "try block in python allows our program to take respective actions, when the error occures.\n",
    "Python will first attempt to execute the code in the try statement. If the error dosent occur then, \n",
    "the except statement is skipped and the execution of the try statement is finished.\n",
    "\n",
    "Where as the except block get active when theres an error in the try block.\n",
    "And except block lets you handle the error. "
   ]
  }
 ],
 "metadata": {
  "kernelspec": {
   "display_name": "Python 3 (ipykernel)",
   "language": "python",
   "name": "python3"
  },
  "language_info": {
   "codemirror_mode": {
    "name": "ipython",
    "version": 3
   },
   "file_extension": ".py",
   "mimetype": "text/x-python",
   "name": "python",
   "nbconvert_exporter": "python",
   "pygments_lexer": "ipython3",
   "version": "3.10.6"
  }
 },
 "nbformat": 4,
 "nbformat_minor": 5
}
