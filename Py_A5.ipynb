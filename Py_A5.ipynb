{
 "cells": [
  {
   "cell_type": "code",
   "execution_count": null,
   "id": "9fa1cf06-226b-4764-8eb6-5f2a9a48ccee",
   "metadata": {},
   "outputs": [],
   "source": [
    "1. What does an empty dictionarys code look like?"
   ]
  },
  {
   "cell_type": "code",
   "execution_count": 10,
   "id": "f4785c3c-4aed-483f-97b8-75d8170926ad",
   "metadata": {},
   "outputs": [
    {
     "name": "stdout",
     "output_type": "stream",
     "text": [
      "<class 'dict'>\n"
     ]
    }
   ],
   "source": [
    "# Answer 1: - \n",
    "\n",
    "'''Similarly as we give an empty list l = []\n",
    "Empty dictionary is also declared as l ={}'''\n",
    "\n",
    "\n",
    "'Example: - '\n",
    "\n",
    "l = {}\n",
    "print(type(l))"
   ]
  },
  {
   "cell_type": "code",
   "execution_count": null,
   "id": "7ac83481-94c6-4a3b-9215-9cf5552a1a40",
   "metadata": {},
   "outputs": [],
   "source": [
    "2. What is the value of a dictionary value with the key 'foo' and the value 42?"
   ]
  },
  {
   "cell_type": "code",
   "execution_count": null,
   "id": "04cf857a-c94e-45b7-b4fd-057d905622d1",
   "metadata": {},
   "outputs": [],
   "source": [
    "# Answer 2: -\n",
    "\n",
    "\n",
    "a = {'foo':42}\n",
    "\n",
    "in this condition key = foo & value = 42\n",
    "So the answer to the question: -\n",
    "\n",
    "value = 42"
   ]
  },
  {
   "cell_type": "code",
   "execution_count": null,
   "id": "eeec0c57-dac2-413b-a594-39e0a5b36a0b",
   "metadata": {},
   "outputs": [],
   "source": [
    "3. What is the most significant distinction between a dictionary and a list?"
   ]
  },
  {
   "cell_type": "code",
   "execution_count": null,
   "id": "06e1aed0-67bc-4811-9132-926bd9b7f02b",
   "metadata": {},
   "outputs": [],
   "source": [
    "# Answer 3: -\n",
    "\n",
    "~A list refers to a collection of various index value \n",
    "where as A dictionary refers to a hashed structure of various pairs of keys and values\n",
    "\n",
    "~ We create list by placing all the elements inside a sqaure brackets [..,..,..,]\n",
    "We create dictionary using a key value pair inside a curly brackets {key1:value1, key2:value2}\n",
    "\n",
    "~ The indices in the case of a list are basically integers that start from the value 0,\n",
    "The keys present in a dictionary can easily be of any given data type.\n",
    "\n",
    "~We can access the elements in a key using indices\n",
    "We can access the elements present in a dictionary using the key-values.\n"
   ]
  },
  {
   "cell_type": "code",
   "execution_count": null,
   "id": "754f3fff-8f0a-456d-9f27-0f84c39b693f",
   "metadata": {},
   "outputs": [],
   "source": [
    "4. What happens if you try to access spam['foo'] if spam is {'bar': 100}?"
   ]
  },
  {
   "cell_type": "code",
   "execution_count": 1,
   "id": "0effeb49-1b56-4aed-8fcc-eb87d08e094b",
   "metadata": {},
   "outputs": [
    {
     "ename": "KeyError",
     "evalue": "'foo'",
     "output_type": "error",
     "traceback": [
      "\u001b[0;31m---------------------------------------------------------------------------\u001b[0m",
      "\u001b[0;31mKeyError\u001b[0m                                  Traceback (most recent call last)",
      "Cell \u001b[0;32mIn [1], line 4\u001b[0m\n\u001b[1;32m      1\u001b[0m \u001b[38;5;66;03m# Answer 4: -\u001b[39;00m\n\u001b[1;32m      3\u001b[0m a \u001b[38;5;241m=\u001b[39m {\u001b[38;5;124m'\u001b[39m\u001b[38;5;124mbar\u001b[39m\u001b[38;5;124m'\u001b[39m: \u001b[38;5;241m100\u001b[39m}\n\u001b[0;32m----> 4\u001b[0m \u001b[38;5;28mprint\u001b[39m(\u001b[43ma\u001b[49m\u001b[43m[\u001b[49m\u001b[38;5;124;43m'\u001b[39;49m\u001b[38;5;124;43mfoo\u001b[39;49m\u001b[38;5;124;43m'\u001b[39;49m\u001b[43m]\u001b[49m)\n",
      "\u001b[0;31mKeyError\u001b[0m: 'foo'"
     ]
    }
   ],
   "source": [
    "# Answer 4: -\n",
    "\n",
    "a = {'bar': 100}\n",
    "print(a['foo']) #KeyError: 'foo'\n",
    "\n",
    "We will get an 'keyError'\n",
    "We get this error when we are trying to find an element which is not present inside a dictionary"
   ]
  },
  {
   "cell_type": "code",
   "execution_count": null,
   "id": "dd9ef018-3cc2-4978-890f-346fdacf3b07",
   "metadata": {},
   "outputs": [],
   "source": [
    "5. If a dictionary is stored in spam, \n",
    "what is the difference between the expressions 'cat' in spam and 'cat' in spam.keys()?"
   ]
  },
  {
   "cell_type": "code",
   "execution_count": null,
   "id": "1af53fc2-a908-4912-a685-0712eb9dcf86",
   "metadata": {},
   "outputs": [],
   "source": [
    "# Answer 5: -\n",
    "\n",
    "'cat' in spam  & 'cat' in spam.keys() : - \n",
    "\n",
    "both the expression checks weather, a key named 'cat' is present inside the dictionary or not \n",
    "resulting in True or Flase"
   ]
  },
  {
   "cell_type": "code",
   "execution_count": null,
   "id": "f66cdce1-383d-41d4-a5ad-ae094602a72c",
   "metadata": {},
   "outputs": [],
   "source": [
    "6. If a dictionary is stored in spam, \n",
    "what is the difference between the expressions 'cat' in spam and 'cat' in spam.values()?"
   ]
  },
  {
   "cell_type": "code",
   "execution_count": null,
   "id": "cb5c645e-a5fb-49f7-80a2-4aea734fa326",
   "metadata": {},
   "outputs": [],
   "source": [
    "# Answer 6: -\n",
    "\n",
    "\n",
    "here 'cat' in spam will return True if the key named 'cat' is present in the dictionary\n",
    "and 'cat' in spam.values() will check for if any 'value' named 'cat' is present inside a dictionary or not \n",
    "\n",
    "\n",
    "both  will result in True or False"
   ]
  },
  {
   "cell_type": "code",
   "execution_count": 7,
   "id": "572af479-f75f-4aa2-b3bf-4db6739af4f5",
   "metadata": {},
   "outputs": [
    {
     "name": "stdout",
     "output_type": "stream",
     "text": [
      "Finding keys: - \n",
      "True\n",
      "False\n",
      "\n",
      "\n",
      "Finding values: - \n",
      "False\n",
      "True\n"
     ]
    }
   ],
   "source": [
    "# Example of Question number 6: -\n",
    "\n",
    "spam = {'cat':\"We don't have a cat\",'dog':'I Love dogs'}\n",
    "\n",
    "print('Finding keys: - ')\n",
    "\n",
    "print('cat' in spam.keys())\n",
    "print('elephant' in spam.keys())\n",
    "print()\n",
    "print()\n",
    "print('Finding values: - ')\n",
    "\n",
    "print('cat' in spam.values())\n",
    "print(\"We don't have a cat\" in spam.values())"
   ]
  },
  {
   "cell_type": "code",
   "execution_count": null,
   "id": "56520bc0-d644-46b3-acbf-0d020b2e5f62",
   "metadata": {},
   "outputs": [],
   "source": [
    "7. What is a shortcut for the following code?\n",
    "if 'color' not in spam:\n",
    "spam['color'] = 'black'\n"
   ]
  },
  {
   "cell_type": "code",
   "execution_count": null,
   "id": "f9c650c5-db96-44b7-a6d0-ac274e7ddca5",
   "metadata": {},
   "outputs": [],
   "source": [
    "# Answer 7: -\n",
    "spam = {'dogs':'i love dogs'}\n",
    "\n",
    "According to me this is a correct code if we want to check a condition & then add a new element\n",
    "Because if the 'color' as a key is not present inside a spam then it will create a new key & value pair\n",
    "spam = {'dogs':'i love dogs','color':'black'}\n",
    "\n",
    "We can also append/add a new pair with the help of .update() & dict_name['new_key']= 'new_value'\n",
    "\n",
    "\n",
    "\n"
   ]
  },
  {
   "cell_type": "code",
   "execution_count": 9,
   "id": "5a0f4685-b244-43fd-ba44-2cafd0fe5a6e",
   "metadata": {},
   "outputs": [
    {
     "name": "stdout",
     "output_type": "stream",
     "text": [
      "Using .update method: - \n",
      "{'dog': 'dogs make life is beautiful', 'color': 'black'}\n",
      "\n",
      "\n",
      "Directly Assigning: - \n",
      "{'dog': 'dogs make life is beautiful', 'color': 'black'}\n"
     ]
    }
   ],
   "source": [
    "# Example for question no 7: -\n",
    "\n",
    "#using .update(): -\n",
    "spam = {'dog': 'dogs make life is beautiful'}\n",
    "spam.update(color = 'black')\n",
    "print(\"Using .update method: - \")\n",
    "print(spam)\n",
    "print()\n",
    "print()\n",
    "\n",
    "\n",
    "#Directly Assigning: -\n",
    "print(\"Directly Assigning: - \")\n",
    "spam = {'dog': 'dogs make life is beautiful'}\n",
    "spam['color'] = 'black'\n",
    "print(spam)"
   ]
  },
  {
   "cell_type": "code",
   "execution_count": null,
   "id": "046ecaf5-a770-45dd-8f38-d4c0ad083cac",
   "metadata": {},
   "outputs": [],
   "source": [
    "8. How do you \"pretty print\" dictionary values using which module and function?"
   ]
  },
  {
   "cell_type": "code",
   "execution_count": null,
   "id": "ac67aa7b-6ecd-4ec5-944b-9a8272d7a8df",
   "metadata": {},
   "outputs": [],
   "source": [
    "# Answer 8: - \n",
    "\n",
    "\n",
    "We have to import pprint for using 'pretty print'\n",
    "\n",
    "# Format for using pprint: -\n",
    "final_var = pprint.pprint(initial_var)\n"
   ]
  }
 ],
 "metadata": {
  "kernelspec": {
   "display_name": "Python 3 (ipykernel)",
   "language": "python",
   "name": "python3"
  },
  "language_info": {
   "codemirror_mode": {
    "name": "ipython",
    "version": 3
   },
   "file_extension": ".py",
   "mimetype": "text/x-python",
   "name": "python",
   "nbconvert_exporter": "python",
   "pygments_lexer": "ipython3",
   "version": "3.10.6"
  }
 },
 "nbformat": 4,
 "nbformat_minor": 5
}
