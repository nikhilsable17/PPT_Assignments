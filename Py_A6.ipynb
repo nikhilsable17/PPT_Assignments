{
 "cells": [
  {
   "cell_type": "code",
   "execution_count": null,
   "id": "4350b817-009e-4d77-bcfa-42db86ba138e",
   "metadata": {},
   "outputs": [],
   "source": [
    "1. What are escape characters, and how do you use them?"
   ]
  },
  {
   "cell_type": "code",
   "execution_count": null,
   "id": "b7b95bbd-7a93-4e35-8ed9-b323428b6dde",
   "metadata": {},
   "outputs": [],
   "source": [
    "# Answer 1: -\n",
    "\n",
    "\n",
    "Characters which are not allowed in python programming, are used with the help of backword slash \"\\\"\n",
    "Which are also not the part of the output!\n",
    "are called as Escape Characters!\n",
    "\n",
    "Using of Escape Characters: -\n",
    "\n",
    "We can use escape characters with a backslash \\ followed by the character you want to insert."
   ]
  },
  {
   "cell_type": "code",
   "execution_count": 4,
   "id": "7191fac6-f4d2-4b82-a047-4525c0e9645f",
   "metadata": {},
   "outputs": [
    {
     "name": "stdout",
     "output_type": "stream",
     "text": [
      "Hii are you \"Nikhil\" if I'm not wrong\n"
     ]
    }
   ],
   "source": [
    "# Example of Question No 1: -\n",
    "\n",
    "# name = \"Hii are you \"Nikhil\" if I'm not wrong\"\n",
    "name = \"Hii are you \\\"Nikhil\\\" if I'm not wrong\"\n",
    "\n",
    "print(name)"
   ]
  },
  {
   "cell_type": "code",
   "execution_count": null,
   "id": "cedf4ed0-cd61-4cba-afb1-caf6344cc23b",
   "metadata": {},
   "outputs": [],
   "source": [
    "2. What do the escape characters n and t stand for?"
   ]
  },
  {
   "cell_type": "code",
   "execution_count": null,
   "id": "dd715a23-dbf9-457a-96e4-ae8f003b904f",
   "metadata": {},
   "outputs": [],
   "source": [
    "# Answer 2: -\n",
    "\n",
    "\n",
    "Escape Character 'n' stands for a 'new line'\n",
    "Escape Character 't' stands for a 'tab' "
   ]
  },
  {
   "cell_type": "code",
   "execution_count": 8,
   "id": "d2903d2a-a529-498a-a047-eef406418c1b",
   "metadata": {},
   "outputs": [
    {
     "name": "stdout",
     "output_type": "stream",
     "text": [
      "Exapmle of escape char: - n\n",
      "\n",
      "I'm Studing FSDS from\n",
      "iNeuron\n",
      "\n",
      "\n",
      "Exapmle of escape char: - t\n",
      "\n",
      "I'm Studing FSDS from\tiNeuron\n"
     ]
    }
   ],
   "source": [
    "# Example of Question No 2: -\n",
    "\n",
    "print('Exapmle of escape char: - n')\n",
    "print()\n",
    "name = \"I'm Studing FSDS from\\niNeuron\"\n",
    "print(name)\n",
    "print()\n",
    "print()\n",
    "print('Exapmle of escape char: - t')\n",
    "print()\n",
    "name_1 = \"I'm Studing FSDS from\\tiNeuron\"\n",
    "print(name_1)\n"
   ]
  },
  {
   "cell_type": "code",
   "execution_count": null,
   "id": "59cd4528-7b68-4408-a090-9ef335e90188",
   "metadata": {},
   "outputs": [],
   "source": [
    "3. What is the way to include backslash characters in a string?"
   ]
  },
  {
   "cell_type": "code",
   "execution_count": null,
   "id": "87eb0ab7-1529-4039-bd90-de5886c85cc4",
   "metadata": {},
   "outputs": [],
   "source": [
    "# Answer 3: -\n",
    "\n",
    "\n",
    "If we want to include a backslash in a string then we have to use double backwardslash '\\\\'"
   ]
  },
  {
   "cell_type": "code",
   "execution_count": 11,
   "id": "7e0fc3d6-d619-437b-9e84-526b50c62286",
   "metadata": {},
   "outputs": [
    {
     "name": "stdout",
     "output_type": "stream",
     "text": [
      "We can insert  a backslash (\\) using double backslash\n"
     ]
    }
   ],
   "source": [
    "# Example of Question No 3: -\n",
    "\n",
    "\n",
    "x = \"We can insert  a backslash (\\\\) using double backslash\"\n",
    "print(x)"
   ]
  },
  {
   "cell_type": "code",
   "execution_count": null,
   "id": "01627145-dd31-4a32-969a-02883a224856",
   "metadata": {},
   "outputs": [],
   "source": [
    "4. The string \"Howl's Moving Castle\" is a correct value. \n",
    "Why isn't the single quote character in the word Howl's not escaped a problem?"
   ]
  },
  {
   "cell_type": "code",
   "execution_count": null,
   "id": "f0c24401-9bf1-4d81-baf7-3d2dc05223f3",
   "metadata": {},
   "outputs": [],
   "source": [
    "# Answer 4: -\n",
    "\n",
    "Because we are using \" \" double quotes to create a string which makes a whole string!"
   ]
  },
  {
   "cell_type": "code",
   "execution_count": null,
   "id": "07ad4a8b-00c5-4ee7-9e0d-3609e7b45dc1",
   "metadata": {},
   "outputs": [],
   "source": [
    "5. How do you write a string of newlines if you don't want to use the n character?"
   ]
  },
  {
   "cell_type": "code",
   "execution_count": 18,
   "id": "a6fc538b-6d46-4b97-846f-79582d602ef1",
   "metadata": {},
   "outputs": [
    {
     "name": "stdout",
     "output_type": "stream",
     "text": [
      "This is how\n",
      "you can take a string to a\n",
      "new line!\n"
     ]
    }
   ],
   "source": [
    "# Answer 5: -\n",
    "\n",
    "\n",
    "# We can simply print new strings one bellow other\n",
    "print('This is how')\n",
    "print('you can take a string to a')\n",
    "print('new line!')"
   ]
  },
  {
   "cell_type": "code",
   "execution_count": null,
   "id": "d8aa0f4d-f34f-4b28-8e57-c05a5441d119",
   "metadata": {},
   "outputs": [],
   "source": [
    "6. What are the values of the given expressions?\n",
    "\n",
    "0 1 2 3 4 5 6 7 8 9 10 11 12\n",
    "H e l l o ,   w o r l  d  !"
   ]
  },
  {
   "cell_type": "code",
   "execution_count": 29,
   "id": "a4c8b412-5131-495a-8b58-382cc8dc0ca5",
   "metadata": {},
   "outputs": [
    {
     "data": {
      "text/plain": [
       "'e'"
      ]
     },
     "execution_count": 29,
     "metadata": {},
     "output_type": "execute_result"
    }
   ],
   "source": [
    "# Answer 6: -\n",
    "\n",
    "'''\n",
    "This will return the letter @ 1st index\n",
    "'''\n",
    "\n",
    "'Hello, world!'[1]"
   ]
  },
  {
   "cell_type": "code",
   "execution_count": 26,
   "id": "f174797b-af4b-4280-9b64-26522165193f",
   "metadata": {},
   "outputs": [
    {
     "data": {
      "text/plain": [
       "'Hello'"
      ]
     },
     "execution_count": 26,
     "metadata": {},
     "output_type": "execute_result"
    }
   ],
   "source": [
    "'''\n",
    "This will return characters starting from index 0 till index 5\n",
    "last element is always omitted!\n",
    "'''\n",
    "\n",
    "\n",
    "'Hello, world!'[0:5]"
   ]
  },
  {
   "cell_type": "code",
   "execution_count": 27,
   "id": "d157306b-a7af-4aab-a921-1a54a8207a03",
   "metadata": {},
   "outputs": [
    {
     "data": {
      "text/plain": [
       "'Hello'"
      ]
     },
     "execution_count": 27,
     "metadata": {},
     "output_type": "execute_result"
    }
   ],
   "source": [
    "'''\n",
    "This will return elements starting from 0th index till 5th element!\n",
    "'''\n",
    "\n",
    "'Hello, world!'[:5]"
   ]
  },
  {
   "cell_type": "code",
   "execution_count": 28,
   "id": "d7c4870a-5d94-4382-920d-88a84af1365d",
   "metadata": {},
   "outputs": [
    {
     "data": {
      "text/plain": [
       "'lo, world!'"
      ]
     },
     "execution_count": 28,
     "metadata": {},
     "output_type": "execute_result"
    }
   ],
   "source": [
    "'''\n",
    "This will return elements starting from index 3 to the end!\n",
    "'''\n",
    "\n",
    "'Hello, world!'[3:]"
   ]
  },
  {
   "cell_type": "code",
   "execution_count": null,
   "id": "73125a5d-b3f9-4641-b93a-aa34c544eddb",
   "metadata": {},
   "outputs": [],
   "source": [
    "7. What are the values of the following expressions?\n",
    "'Hello'.upper()\n",
    "'Hello'.upper().isupper()\n",
    "'Hello'.upper().lower()\n"
   ]
  },
  {
   "cell_type": "code",
   "execution_count": 37,
   "id": "d0323bdf-4365-41c9-a741-9346d4d2c5f6",
   "metadata": {},
   "outputs": [
    {
     "name": "stdout",
     "output_type": "stream",
     "text": [
      "HELLO\n",
      "\n",
      "\n",
      "True\n",
      "\n",
      "\n",
      "hello\n"
     ]
    }
   ],
   "source": [
    "# Answer 7: -\n",
    "\n",
    "#This will change the case of all the string characters\n",
    "new = 'Hello'.upper()\n",
    "print(new)\n",
    "print()\n",
    "print()\n",
    "# This will first change all the String elements to upper case and check if they all are in upper case or not, \n",
    "#resulting in true or false\n",
    "new_1 = 'Hello'.upper().isupper()\n",
    "print(new_1)\n",
    "print()\n",
    "print()\n",
    "# This will first change all the String elements to upper case and again it will convert to lower case\n",
    "# Final it will be in lower case\n",
    "new_2 = 'Hello'.upper().lower()\n",
    "print(new_2)"
   ]
  },
  {
   "cell_type": "code",
   "execution_count": null,
   "id": "51c126ac-2de5-44d7-94af-a936914b0a5c",
   "metadata": {},
   "outputs": [],
   "source": [
    "8. What are the values of the following expressions?\n",
    "'Remember, remember, the fifth of July.'.split()\n",
    "'-'.join('There can only one.'.split())\n"
   ]
  },
  {
   "cell_type": "code",
   "execution_count": 38,
   "id": "7f5cdb1a-ba71-46d8-add8-0fb5fe73e94c",
   "metadata": {},
   "outputs": [
    {
     "data": {
      "text/plain": [
       "['Remember,', 'remember,', 'the', 'fifth', 'of', 'July.']"
      ]
     },
     "execution_count": 38,
     "metadata": {},
     "output_type": "execute_result"
    }
   ],
   "source": [
    "# Answer 8: -\n",
    "\n",
    "'''This will split all the words in a string saperately in a list & can also have an index for each one of them,\n",
    "if you store that list in a variable\n",
    "'''\n",
    "'Remember, remember, the fifth of July.'.split()"
   ]
  },
  {
   "cell_type": "code",
   "execution_count": 42,
   "id": "676dd74d-ee00-48fe-b87e-a660f52f832c",
   "metadata": {},
   "outputs": [
    {
     "data": {
      "text/plain": [
       "'There-can-only-one.'"
      ]
     },
     "execution_count": 42,
     "metadata": {},
     "output_type": "execute_result"
    }
   ],
   "source": [
    "# Here we add - after every word in a string because we have use split method\n",
    "# forming in a final string\n",
    "\n",
    "'-'.join('There can only one.'.split())"
   ]
  },
  {
   "cell_type": "code",
   "execution_count": null,
   "id": "a69c1189-47f3-4016-b410-c1077cb214ca",
   "metadata": {},
   "outputs": [],
   "source": [
    "9. What are the methods for right-justifying, left-justifying, and centering a string?"
   ]
  },
  {
   "cell_type": "code",
   "execution_count": 48,
   "id": "6268deb3-0939-41e9-8a38-43b2e843e349",
   "metadata": {},
   "outputs": [
    {
     "name": "stdout",
     "output_type": "stream",
     "text": [
      "*******This is Right justified\n",
      "\n",
      "This is Left justified********\n",
      "\n",
      "***This is Center justified***\n"
     ]
    }
   ],
   "source": [
    "# Answer 9: -\n",
    "\n",
    "'''\n",
    "These are the String Alignment operators\n",
    "these helps to align string to the Left, Right & at the Center\n",
    "User can also decide the how much to space to be kept from the respective sides '''\n",
    "\n",
    "right = (\"This is Right justified\")\n",
    "print(right.rjust(30, '*'))\n",
    "print()\n",
    "left = (\"This is Left justified\")\n",
    "print(left.ljust(30, '*'))\n",
    "print()\n",
    "center = (\"This is Center justified\")\n",
    "print(center.center(30, '*'))\n"
   ]
  },
  {
   "cell_type": "code",
   "execution_count": null,
   "id": "a4b951cc-bcf4-48db-a94d-a461abf7278e",
   "metadata": {},
   "outputs": [],
   "source": [
    "10. What is the best way to remove whitespace characters from the start or end?"
   ]
  },
  {
   "cell_type": "code",
   "execution_count": 60,
   "id": "2af3ac1e-0187-449d-95ab-bd6b67ed4773",
   "metadata": {},
   "outputs": [
    {
     "name": "stdout",
     "output_type": "stream",
     "text": [
      "This will trim both the sides\n",
      "\n",
      "     This will trim only right the sides whitespace\n",
      "\n",
      "This will trim only left the sides whitespace    \n"
     ]
    }
   ],
   "source": [
    "# Answer 10: -\n",
    "\n",
    "'''We can use .strip() method to remove whitespace characters from the start & end'''\n",
    "\n",
    "\n",
    "full = '     This will trim both the sides    '\n",
    "print(full.strip())\n",
    "print()\n",
    "right = '     This will trim only right the sides whitespace    '\n",
    "print(right.rstrip())\n",
    "print()\n",
    "left = '     This will trim only left the sides whitespace    '\n",
    "print(left.lstrip())"
   ]
  }
 ],
 "metadata": {
  "kernelspec": {
   "display_name": "Python 3 (ipykernel)",
   "language": "python",
   "name": "python3"
  },
  "language_info": {
   "codemirror_mode": {
    "name": "ipython",
    "version": 3
   },
   "file_extension": ".py",
   "mimetype": "text/x-python",
   "name": "python",
   "nbconvert_exporter": "python",
   "pygments_lexer": "ipython3",
   "version": "3.10.6"
  }
 },
 "nbformat": 4,
 "nbformat_minor": 5
}
